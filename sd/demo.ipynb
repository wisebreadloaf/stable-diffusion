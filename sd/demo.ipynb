{
 "cells": [
  {
   "cell_type": "code",
   "execution_count": null,
   "metadata": {},
   "outputs": [
    {
     "name": "stderr",
     "output_type": "stream",
     "text": [
      "/tmp/ipykernel_7928/1480200733.py:13: UserWarning: 'has_mps' is deprecated, please use 'torch.backends.mps.is_built()'\n",
      "  elif (torch.has_mps or torch.backends.mps.is_available()) and ALLOW_MPS:\n"
     ]
    },
    {
     "name": "stdout",
     "output_type": "stream",
     "text": [
      "cpu\n"
     ]
    }
   ],
   "source": [
    "import model_loader\n",
    "import pipeline\n",
    "from PIL import Image\n",
    "from transformers import CLIPTokenizer\n",
    "import torch\n",
    "\n",
    "DEVICE = \"cpu\"\n",
    "ALLOW_CUDA = False\n",
    "ALLOW_MPS = False\n",
    "\n",
    "if torch.cuda.is_available() and ALLOW_CUDA:\n",
    "    DEVICE = \"cuda\"\n",
    "elif (torch.has_mps or torch.backends.mps.is_available()) and ALLOW_MPS:\n",
    "    DEVICE = \"mps\"\n",
    "print(DEVICE)\n",
    "tokenizer = CLIPTokenizer(\"../data/vocab.json\", merges_file=\"../data/merges.txt\")\n",
    "model_file = \"../data/v1-5-pruned-emaonly.ckpt\"\n",
    "models = model_loader.preload_models_from_standard_weights(model_file, DEVICE)\n",
    "\n",
    "prompt = \"A cat stretching on the floor, highly detailed, ultra sharp, cinematic, 8k resolution\"\n",
    "uncond_prompt = \"\"\n",
    "do_cfg = True\n",
    "cfg_scale = 7\n",
    "\n",
    "input_image = None\n",
    "image_path = \"../images/dog.jpg\"\n",
    "input_image = Image.open(image_path)\n",
    "strength = 0.9\n",
    "\n",
    "sampler = \"ddpm\"\n",
    "num_inference_steps = 50\n",
    "seed = 42\n",
    "\n",
    "output_image = pipeline.generate(\n",
    "    prompt = prompt,\n",
    "    uncond_prompt = uncond_prompt,\n",
    "    input_image = input_image,\n",
    "    strength = strength,\n",
    "    do_cfg = do_cfg,\n",
    "    cfg_scale = cfg_scale,\n",
    "    sampler_name = sampler_name,\n",
    "    n_inference_steps = n_inference_steps,\n",
    "    seed = seed,\n",
    "    models = models,\n",
    "    device = DEVICE,\n",
    "    idle_device = \"cpu\",\n",
    "    tokenizer = tokenizer\n",
    ")\n",
    "Image.fromarray(output_image)"
   ]
  },
  {
   "cell_type": "code",
   "execution_count": null,
   "metadata": {},
   "outputs": [],
   "source": []
  }
 ],
 "metadata": {
  "kernelspec": {
   "display_name": "Python 3 (ipykernel)",
   "language": "python",
   "name": "python3"
  },
  "language_info": {
   "codemirror_mode": {
    "name": "ipython",
    "version": 3
   },
   "file_extension": ".py",
   "mimetype": "text/x-python",
   "name": "python",
   "nbconvert_exporter": "python",
   "pygments_lexer": "ipython3",
   "version": "3.11.7"
  }
 },
 "nbformat": 4,
 "nbformat_minor": 4
}
